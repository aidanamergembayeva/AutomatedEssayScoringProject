{
 "cells": [
  {
   "cell_type": "code",
   "execution_count": 1,
   "id": "ca0fafe8-2e86-4e70-8342-76942da49148",
   "metadata": {},
   "outputs": [
    {
     "name": "stdout",
     "output_type": "stream",
     "text": [
      "WARNING:tensorflow:From C:\\Users\\Admin\\anaconda3\\Lib\\site-packages\\tf_keras\\src\\losses.py:2976: The name tf.losses.sparse_softmax_cross_entropy is deprecated. Please use tf.compat.v1.losses.sparse_softmax_cross_entropy instead.\n",
      "\n"
     ]
    }
   ],
   "source": [
    "import os\n",
    "import pandas as pd\n",
    "import numpy as np\n",
    "import pickle\n",
    "from sklearn.model_selection import train_test_split\n",
    "from sklearn.metrics import mean_squared_error, r2_score, cohen_kappa_score\n",
    "from scipy.stats import spearmanr, pearsonr\n",
    "from sklearn.feature_extraction.text import TfidfVectorizer\n",
    "from sklearn.svm import SVR\n",
    "from tensorflow.keras.models import Sequential, Model\n",
    "from tensorflow.keras.layers import Dense, Dropout, LSTM, Input\n",
    "from tensorflow.keras.optimizers import Adam\n",
    "from tensorflow.keras.callbacks import EarlyStopping\n",
    "from transformers import BertTokenizer, TFBertModel\n",
    "import matplotlib.pyplot as plt\n",
    "import json"
   ]
  },
  {
   "cell_type": "code",
   "execution_count": 3,
   "id": "1f7bff9c-82f0-4328-8c34-15f067866e39",
   "metadata": {},
   "outputs": [],
   "source": [
    "DATA_DIR = \"./data\"\n",
    "MODEL_DIR = \"./models\"\n",
    "RESULT_DIR = \"./results\""
   ]
  },
  {
   "cell_type": "code",
   "execution_count": 5,
   "id": "3bc3775a-e947-46a1-a3b8-cbcd3ced326c",
   "metadata": {},
   "outputs": [],
   "source": [
    "os.makedirs(DATA_DIR, exist_ok=True)\n",
    "os.makedirs(MODEL_DIR, exist_ok=True)\n",
    "os.makedirs(RESULT_DIR, exist_ok=True)"
   ]
  },
  {
   "cell_type": "code",
   "execution_count": 9,
   "id": "4966a232-f7fd-4907-a40e-688f5fda9524",
   "metadata": {},
   "outputs": [],
   "source": [
    "def load_data(file_path):\n",
    "    return pd.read_csv(file_path, sep='\\t', encoding='ISO-8859-1')"
   ]
  },
  {
   "cell_type": "code",
   "execution_count": 11,
   "id": "070e792f-b181-4afb-9b0b-ee4e0b71d85f",
   "metadata": {},
   "outputs": [],
   "source": [
    "def preprocess_text(data):\n",
    "    data['essay'] = data['essay'].str.lower().str.replace(r'[^\\w\\s]', '', regex=True)\n",
    "    return data"
   ]
  },
  {
   "cell_type": "code",
   "execution_count": 13,
   "id": "bf27af21-f272-4fa3-ae4a-76a42e63d733",
   "metadata": {},
   "outputs": [],
   "source": [
    "def tokenize_essays(texts, tokenizer, max_length=512):\n",
    "    encodings = tokenizer(\n",
    "        texts.tolist(),\n",
    "        max_length=max_length,\n",
    "        padding=True,\n",
    "        truncation=True,\n",
    "        return_tensors=\"tf\",\n",
    "    )\n",
    "    return encodings"
   ]
  },
  {
   "cell_type": "code",
   "execution_count": 15,
   "id": "24d2c954-f06d-4c86-94a4-ed8f6b99d8fe",
   "metadata": {},
   "outputs": [],
   "source": [
    "# Metrics Calculation\n",
    "def calculate_metrics(y_true, y_pred):\n",
    "    mse = mean_squared_error(y_true, y_pred)\n",
    "    r2 = r2_score(y_true, y_pred)\n",
    "    spearman = spearmanr(y_true, y_pred).correlation\n",
    "    pearson = pearsonr(y_true, y_pred)[0]\n",
    "    return {\"MSE\": mse, \"R²\": r2, \"Spearman\": spearman, \"Pearson\": pearson}"
   ]
  },
  {
   "cell_type": "code",
   "execution_count": null,
   "id": "396c48f6-24e9-4fd7-af6c-1dfc0ec6aa28",
   "metadata": {},
   "outputs": [],
   "source": []
  }
 ],
 "metadata": {
  "kernelspec": {
   "display_name": "Python [conda env:base] *",
   "language": "python",
   "name": "conda-base-py"
  },
  "language_info": {
   "codemirror_mode": {
    "name": "ipython",
    "version": 3
   },
   "file_extension": ".py",
   "mimetype": "text/x-python",
   "name": "python",
   "nbconvert_exporter": "python",
   "pygments_lexer": "ipython3",
   "version": "3.12.3"
  }
 },
 "nbformat": 4,
 "nbformat_minor": 5
}
